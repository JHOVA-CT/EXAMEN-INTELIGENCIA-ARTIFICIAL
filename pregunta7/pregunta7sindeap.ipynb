{
  "nbformat": 4,
  "nbformat_minor": 0,
  "metadata": {
    "colab": {
      "provenance": []
    },
    "kernelspec": {
      "name": "python3",
      "display_name": "Python 3"
    },
    "language_info": {
      "name": "python"
    }
  },
  "cells": [
    {
      "cell_type": "code",
      "execution_count": 2,
      "metadata": {
        "colab": {
          "base_uri": "https://localhost:8080/"
        },
        "id": "nXKxRUz9axDh",
        "outputId": "04117665-c706-4278-c42e-a659df58b9a0"
      },
      "outputs": [
        {
          "output_type": "stream",
          "name": "stdout",
          "text": [
            "Collecting deap\n",
            "  Downloading deap-1.4.1-cp310-cp310-manylinux_2_5_x86_64.manylinux1_x86_64.manylinux_2_17_x86_64.manylinux2014_x86_64.whl.metadata (13 kB)\n",
            "Requirement already satisfied: numpy in /usr/local/lib/python3.10/dist-packages (from deap) (1.26.4)\n",
            "Downloading deap-1.4.1-cp310-cp310-manylinux_2_5_x86_64.manylinux1_x86_64.manylinux_2_17_x86_64.manylinux2014_x86_64.whl (135 kB)\n",
            "\u001b[2K   \u001b[90m━━━━━━━━━━━━━━━━━━━━━━━━━━━━━━━━━━━━━━━━\u001b[0m \u001b[32m135.4/135.4 kB\u001b[0m \u001b[31m3.2 MB/s\u001b[0m eta \u001b[36m0:00:00\u001b[0m\n",
            "\u001b[?25hInstalling collected packages: deap\n",
            "Successfully installed deap-1.4.1\n"
          ]
        }
      ],
      "source": [
        "pip install deap"
      ]
    },
    {
      "cell_type": "code",
      "source": [
        "import random\n",
        "import pandas as pd\n",
        "\n",
        "# Población original\n",
        "poblacion_original = [10, 13, 3, 4, 8, 1, 12, 5, 7, 6, 9, 11]\n",
        "\n",
        "# Función para convertir a binario\n",
        "def to_binary(num):\n",
        "    return format(num, '08b')  # 8 bits\n",
        "\n",
        "# Función para hacer el cruce\n",
        "def cruce(parent1, parent2, point):\n",
        "    child1 = parent1[:point] + parent2[point:]\n",
        "    child2 = parent2[:point] + parent1[point:]\n",
        "    return child1, child2\n",
        "\n",
        "# Función para hacer la mutación\n",
        "def mutacion(individual, puntodemutacion):\n",
        "    if individual[puntodemutacion] == '0':\n",
        "        individual = individual[:puntodemutacion] + '1' + individual[puntodemutacion + 1:]\n",
        "    else:\n",
        "        individual = individual[:puntodemutacion] + '0' + individual[puntodemutacion + 1:]\n",
        "    return individual\n",
        "\n",
        "# Función para generar una nueva población\n",
        "def generar_nueva_poblacion(poblacion, punto_cruce, punto_mutacion):\n",
        "    poblacion_binaria = [to_binary(x) for x in poblacion]\n",
        "    nuevos_hijos = []\n",
        "    results = []\n",
        "\n",
        "    for i in range(0, len(poblacion_binaria), 2):\n",
        "        parent1 = poblacion_binaria[i]\n",
        "        parent2 = poblacion_binaria[i + 1] if i + 1 < len(poblacion_binaria) else poblacion_binaria[0]\n",
        "\n",
        "        # Cruzar padres\n",
        "        child1, child2 = cruce(parent1, parent2, punto_cruce)\n",
        "\n",
        "        # Mutar hijos\n",
        "        mutated_child1 = mutacion(child1, punto_mutacion)\n",
        "        mutated_child2 = mutacion(child2, punto_mutacion)\n",
        "\n",
        "        nuevos_hijos.append(mutated_child1)\n",
        "        nuevos_hijos.append(mutated_child2)\n",
        "\n",
        "        # Agregar resultados a la tabla\n",
        "        results.append({\n",
        "            'Padre 1': parent1,\n",
        "            'Padre 2': parent2,\n",
        "            'Hijo 1 (Antes de mutar)': child1,\n",
        "            'Hijo 2 (Antes de mutar)': child2,\n",
        "            'Hijo 1 (Después de mutar)': mutated_child1,\n",
        "            'Hijo 2 (Después de mutar)': mutated_child2\n",
        "        })\n",
        "\n",
        "    # Convertir resultados a DataFrame\n",
        "    df_results = pd.DataFrame(results)\n",
        "\n",
        "    # Convertir hijos de binario a decimal para los resultados finales\n",
        "    nueva_poblacion = [int(child, 2) for child in nuevos_hijos]\n",
        "    df_results['Hijo 1 (Decimal)'] = df_results['Hijo 1 (Después de mutar)'].apply(lambda x: int(x, 2))\n",
        "    df_results['Hijo 2 (Decimal)'] = df_results['Hijo 2 (Después de mutar)'].apply(lambda x: int(x, 2))\n",
        "\n",
        "    return df_results, sorted(nueva_poblacion)\n",
        "\n",
        "# Función para ejecutar múltiples generaciones\n",
        "def ejecutar_generaciones(poblacion_inicial, generaciones):\n",
        "    poblacion_actual = poblacion_inicial\n",
        "\n",
        "    for gen in range(generaciones):\n",
        "        print(f\"\\n--- Generación {gen + 1} ---\")\n",
        "\n",
        "        # Pedir parámetros para la generación actual\n",
        "        punto_cruce = int(input(f\"Introduce el punto de cruce para la generación {gen + 1}: \"))\n",
        "        punto_mutacion = int(input(f\"Introduce el bit de mutación (0-7) para la generación {gen + 1}: \"))\n",
        "\n",
        "        # Generar nueva población\n",
        "        df_results, poblacion_actual = generar_nueva_poblacion(poblacion_actual, punto_cruce, punto_mutacion)\n",
        "\n",
        "       # Mostrar resultados de la generación\n",
        "       # print(df_results)\n",
        "        print(\"\\nNueva población ordenada:\", poblacion_actual)\n",
        "\n",
        "    return poblacion_actual\n",
        "\n",
        "# Parámetros iniciales\n",
        "generaciones = int(input(\"Introduce el número de generaciones: \"))\n",
        "\n",
        "# Ejecutar el algoritmo para las generaciones seleccionadas\n",
        "poblacion_final = ejecutar_generaciones(poblacion_original, generaciones)\n",
        "\n"
      ],
      "metadata": {
        "colab": {
          "base_uri": "https://localhost:8080/"
        },
        "id": "A-tZb8d-gh3S",
        "outputId": "f1693c80-cfdb-4440-e8c5-7f3737bd14a3"
      },
      "execution_count": 6,
      "outputs": [
        {
          "output_type": "stream",
          "name": "stdout",
          "text": [
            "Introduce el número de generaciones: 3\n",
            "\n",
            "--- Generación 1 ---\n",
            "Introduce el punto de cruce para la generación 1: 4\n",
            "Introduce el bit de mutación (0-7) para la generación 1: 6\n",
            "\n",
            "Nueva población ordenada: [1, 3, 4, 5, 6, 7, 8, 9, 10, 11, 14, 15]\n",
            "\n",
            "--- Generación 2 ---\n",
            "Introduce el punto de cruce para la generación 2: 5\n",
            "Introduce el bit de mutación (0-7) para la generación 2: 7\n",
            "\n",
            "Nueva población ordenada: [0, 2, 4, 5, 6, 7, 8, 9, 10, 11, 14, 15]\n",
            "\n",
            "--- Generación 3 ---\n",
            "Introduce el punto de cruce para la generación 3: 3\n",
            "Introduce el bit de mutación (0-7) para la generación 3: 5\n",
            "\n",
            "Nueva población ordenada: [0, 1, 2, 3, 4, 6, 10, 11, 12, 13, 14, 15]\n"
          ]
        }
      ]
    }
  ]
}