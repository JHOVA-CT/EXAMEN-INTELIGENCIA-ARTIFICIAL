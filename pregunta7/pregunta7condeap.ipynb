{
  "nbformat": 4,
  "nbformat_minor": 0,
  "metadata": {
    "colab": {
      "provenance": []
    },
    "kernelspec": {
      "name": "python3",
      "display_name": "Python 3"
    },
    "language_info": {
      "name": "python"
    }
  },
  "cells": [
    {
      "cell_type": "code",
      "source": [
        "!pip install deap"
      ],
      "metadata": {
        "colab": {
          "base_uri": "https://localhost:8080/"
        },
        "id": "2aT6Mu_1Qi-u",
        "outputId": "34cf0ff3-4f4e-4c29-e7cb-69a362260b79"
      },
      "execution_count": 3,
      "outputs": [
        {
          "output_type": "stream",
          "name": "stdout",
          "text": [
            "Collecting deap\n",
            "  Downloading deap-1.4.1-cp310-cp310-manylinux_2_5_x86_64.manylinux1_x86_64.manylinux_2_17_x86_64.manylinux2014_x86_64.whl.metadata (13 kB)\n",
            "Requirement already satisfied: numpy in /usr/local/lib/python3.10/dist-packages (from deap) (1.26.4)\n",
            "Downloading deap-1.4.1-cp310-cp310-manylinux_2_5_x86_64.manylinux1_x86_64.manylinux_2_17_x86_64.manylinux2014_x86_64.whl (135 kB)\n",
            "\u001b[2K   \u001b[90m━━━━━━━━━━━━━━━━━━━━━━━━━━━━━━━━━━━━━━━━\u001b[0m \u001b[32m135.4/135.4 kB\u001b[0m \u001b[31m2.4 MB/s\u001b[0m eta \u001b[36m0:00:00\u001b[0m\n",
            "\u001b[?25hInstalling collected packages: deap\n",
            "Successfully installed deap-1.4.1\n"
          ]
        }
      ]
    },
    {
      "cell_type": "code",
      "execution_count": 4,
      "metadata": {
        "colab": {
          "base_uri": "https://localhost:8080/"
        },
        "id": "6tkVLx8aPYz3",
        "outputId": "00edad93-a18e-46fc-b68f-6392285069a5"
      },
      "outputs": [
        {
          "output_type": "stream",
          "name": "stdout",
          "text": [
            "Introduce el número de generaciones: 3\n",
            "\n",
            "--- Generación 1 ---\n",
            "Introduce el punto de cruce para la generación 1 (0-7): 4\n",
            "Introduce el bit de mutación (0-7) para la generación 1: 6\n",
            "Nueva población (decimal): [4, 12, 11, 1, 6, 13, 1, 1, 11, 4, 6, 5]\n",
            "\n",
            "--- Generación 2 ---\n",
            "Introduce el punto de cruce para la generación 2 (0-7): 5\n",
            "Introduce el bit de mutación (0-7) para la generación 2: 7\n",
            "Nueva población (decimal): [4, 13, 9, 3, 5, 14, 0, 1, 13, 3, 4, 6]\n",
            "\n",
            "--- Generación 3 ---\n",
            "Introduce el punto de cruce para la generación 3 (0-7): 3\n",
            "Introduce el bit de mutación (0-7) para la generación 3: 5\n",
            "Nueva población (decimal): [13, 4, 7, 13, 10, 1, 1, 4, 3, 9, 2, 4]\n"
          ]
        }
      ],
      "source": [
        "import random\n",
        "import numpy as np\n",
        "from deap import base, creator, tools\n",
        "\n",
        "# Población original\n",
        "poblacion_original = [10, 13, 3, 4, 8, 1, 12, 5, 7, 6, 9, 11]\n",
        "\n",
        "# Configuración de DEAP\n",
        "creator.create(\"FitnessMax\", base.Fitness, weights=(1.0,))  # Maximizar\n",
        "creator.create(\"Individual\", list, fitness=creator.FitnessMax)\n",
        "\n",
        "toolbox = base.Toolbox()\n",
        "\n",
        "# Función para convertir a binario (para mostrar resultados)\n",
        "def to_binary(num):\n",
        "    return format(num, '08b')  # 8 bits\n",
        "\n",
        "# Definir el atributo individual (en binario, de 8 bits)\n",
        "toolbox.register(\"attr_int\", lambda: random.choice(poblacion_original))\n",
        "\n",
        "# Crear un individuo como una lista de enteros (de longitud 1, ya que son números individuales)\n",
        "toolbox.register(\"individual\", tools.initRepeat, creator.Individual, toolbox.attr_int, n=1)\n",
        "\n",
        "# Crear una población de individuos\n",
        "toolbox.register(\"population\", tools.initRepeat, list, toolbox.individual)\n",
        "\n",
        "# Evaluación: utilizamos el número en sí mismo como fitness\n",
        "def eval_individual(individual):\n",
        "    return individual[0],  # Necesita devolver una tupla\n",
        "\n",
        "toolbox.register(\"evaluate\", eval_individual)\n",
        "\n",
        "# Función para hacer el cruce (1 punto de cruce)\n",
        "def custom_crossover(parent1, parent2, punto_cruce):\n",
        "    bin1 = to_binary(parent1[0])\n",
        "    bin2 = to_binary(parent2[0])\n",
        "\n",
        "    # Cruzamos en el punto especificado\n",
        "    child1_bin = bin1[:punto_cruce] + bin2[punto_cruce:]\n",
        "    child2_bin = bin2[:punto_cruce] + bin1[punto_cruce:]\n",
        "\n",
        "    # Convertimos de binario a decimal\n",
        "    child1 = int(child1_bin, 2)\n",
        "    child2 = int(child2_bin, 2)\n",
        "\n",
        "    return creator.Individual([child1]), creator.Individual([child2])\n",
        "\n",
        "# Función para hacer la mutación (mutamos un bit específico)\n",
        "def custom_mutation(individual, punto_mutacion):\n",
        "    bin_ind = to_binary(individual[0])\n",
        "\n",
        "    # Realizamos la mutación en el punto especificado\n",
        "    if bin_ind[punto_mutacion] == '0':\n",
        "        new_bin_ind = bin_ind[:punto_mutacion] + '1' + bin_ind[punto_mutacion + 1:]\n",
        "    else:\n",
        "        new_bin_ind = bin_ind[:punto_mutacion] + '0' + bin_ind[punto_mutacion + 1:]\n",
        "\n",
        "    # Convertimos de nuevo a decimal\n",
        "    individual[0] = int(new_bin_ind, 2)\n",
        "\n",
        "    return individual,\n",
        "\n",
        "# Registrar las funciones de cruce y mutación\n",
        "toolbox.register(\"mate\", custom_crossover)\n",
        "toolbox.register(\"mutate\", custom_mutation)\n",
        "\n",
        "# Algoritmo genético\n",
        "def ejecutar_generaciones(poblacion_inicial, generaciones):\n",
        "    poblacion = toolbox.population(n=len(poblacion_inicial))\n",
        "\n",
        "    for gen in range(generaciones):\n",
        "        print(f\"\\n--- Generación {gen + 1} ---\")\n",
        "\n",
        "        punto_cruce = int(input(f\"Introduce el punto de cruce para la generación {gen + 1} (0-7): \"))\n",
        "        punto_mutacion = int(input(f\"Introduce el bit de mutación (0-7) para la generación {gen + 1}: \"))\n",
        "\n",
        "        # Seleccionar parejas para cruzar\n",
        "        offspring = []\n",
        "        for i in range(0, len(poblacion), 2):\n",
        "            parent1 = poblacion[i]\n",
        "            parent2 = poblacion[i + 1] if i + 1 < len(poblacion) else poblacion[0]\n",
        "\n",
        "            child1, child2 = toolbox.mate(parent1, parent2, punto_cruce)\n",
        "            offspring.append(child1)\n",
        "            offspring.append(child2)\n",
        "\n",
        "        # Aplicar mutación\n",
        "        for individual in offspring:\n",
        "            if random.random() < 0.5:  # Probabilidad de mutación\n",
        "                toolbox.mutate(individual, punto_mutacion)\n",
        "\n",
        "        # Evaluar nueva generación\n",
        "        poblacion[:] = offspring\n",
        "        fitness_values = list(map(toolbox.evaluate, poblacion))\n",
        "        print(\"Nueva población (decimal):\", [x[0] for x in fitness_values])\n",
        "\n",
        "    return poblacion\n",
        "\n",
        "# Parámetros iniciales\n",
        "generaciones = int(input(\"Introduce el número de generaciones: \"))\n",
        "\n",
        "# Ejecutar el algoritmo\n",
        "poblacion_final = ejecutar_generaciones(poblacion_original, generaciones)\n"
      ]
    }
  ]
}