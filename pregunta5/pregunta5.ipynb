{
  "nbformat": 4,
  "nbformat_minor": 0,
  "metadata": {
    "colab": {
      "provenance": []
    },
    "kernelspec": {
      "name": "python3",
      "display_name": "Python 3"
    },
    "language_info": {
      "name": "python"
    }
  },
  "cells": [
    {
      "cell_type": "code",
      "execution_count": 2,
      "metadata": {
        "colab": {
          "base_uri": "https://localhost:8080/"
        },
        "id": "YgtIFxlv8dPj",
        "outputId": "2d69b033-ba0e-4349-e0e6-6dfdc04b9f5a"
      },
      "outputs": [
        {
          "output_type": "stream",
          "name": "stdout",
          "text": [
            "Drive already mounted at /content/Drive; to attempt to forcibly remount, call drive.mount(\"/content/Drive\", force_remount=True).\n",
            "Costo final con penalización L2: 0.013895304059917993\n",
            "Costo final con penalización L1: 0.026545075674604318\n"
          ]
        }
      ],
      "source": [
        "# Montar Google Drive\n",
        "from google.colab import drive\n",
        "drive.mount(\"/content/Drive\")\n",
        "\n",
        "# Cargar el dataset\n",
        "import pandas as pd\n",
        "data = pd.read_csv(\"/content/Drive/MyDrive/datos/Wine Quality Dataset.csv\")\n",
        "\n",
        "# Normalizar las características (Min-Max Normalization)\n",
        "data_normalizado = (data - data.min()) / (data.max() - data.min())\n",
        "\n",
        "# Separar las características (X) y la etiqueta (y)\n",
        "X = data_normalizado.drop('quality', axis=1).values.tolist()  # Convertir a lista\n",
        "y = data_normalizado['quality'].values.tolist()  # Convertir a lista\n",
        "\n",
        "# Definir la función de costo para L1 y L2\n",
        "def costo_calculado(X, y, weights, alpha, tipo='L2'):\n",
        "    m = len(y)  # Número de muestras\n",
        "    predicciones = [sum(x * w for x, w in zip(xi, weights)) for xi in X]  # Predicciones\n",
        "    error = [pred - actual for pred, actual in zip(predicciones, y)]  # Error\n",
        "    costo = (1 / (2 * m)) * sum(err ** 2 for err in error)  # Costo base (sin penalización)\n",
        "\n",
        "    if tipo == 'L1':\n",
        "        costo += alpha * sum(abs(w) for w in weights)  # Penalización L1\n",
        "    elif tipo == 'L2':\n",
        "        costo += (alpha / 2) * sum(w ** 2 for w in weights)  # Penalización L2\n",
        "\n",
        "    return costo\n",
        "\n",
        "# Inicializar pesos (coeficientes)\n",
        "weights = [0] * (len(X[0]))  # Inicializar pesos a cero\n",
        "alpha = 0.01  # Tasa de aprendizaje\n",
        "iterations = 1000\n",
        "\n",
        "# Entrenamiento usando Penalización L2 (Ridge)\n",
        "for i in range(iterations):\n",
        "    predicciones = [sum(x * w for x, w in zip(xi, weights)) for xi in X]\n",
        "    error = [pred - actual for pred, actual in zip(predicciones, y)]\n",
        "\n",
        "    # Calcular el gradiente\n",
        "    gradient = [(1 / len(y)) * sum(x[j] * err for x, err in zip(X, error)) + alpha * weights[j] for j in range(len(weights))]\n",
        "\n",
        "    # Actualizar pesos\n",
        "    weights = [w - alpha * g for w, g in zip(weights, gradient)]\n",
        "\n",
        "# Costo final con penalización L2\n",
        "costo_final_L2 = costo_calculado(X, y, weights, alpha, tipo='L2')\n",
        "print(f\"Costo final con penalización L2: {costo_final_L2}\")\n",
        "\n",
        "# Reiniciar pesos para penalización L1\n",
        "weights = [0] * (len(X[0]))  # Inicializar pesos a cero\n",
        "\n",
        "# Entrenamiento usando Penalización L1 (Lasso)\n",
        "for i in range(iterations):\n",
        "    predicciones = [sum(x * w for x, w in zip(xi, weights)) for xi in X]\n",
        "    error = [pred - actual for pred, actual in zip(predicciones, y)]\n",
        "\n",
        "    # Calcular el gradiente\n",
        "    gradient = [(1 / len(y)) * sum(x[j] * err for x, err in zip(X, error)) for j in range(len(weights))]\n",
        "\n",
        "    # Agregar penalización L1 (subida o bajada del coeficiente)\n",
        "    for j in range(len(weights)):\n",
        "        if weights[j] > 0:\n",
        "            gradient[j] += alpha\n",
        "        elif weights[j] < 0:\n",
        "            gradient[j] -= alpha\n",
        "\n",
        "    # Actualizar pesos\n",
        "    weights = [w - alpha * g for w, g in zip(weights, gradient)]\n",
        "\n",
        "# Costo final con penalización L1\n",
        "costo_final_L1 = costo_calculado(X, y, weights, alpha, tipo='L1')\n",
        "print(f\"Costo final con penalización L1: {costo_final_L1}\")\n"
      ]
    }
  ]
}